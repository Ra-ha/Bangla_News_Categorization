{
  "cells": [
    {
      "cell_type": "markdown",
      "metadata": {
        "id": "view-in-github",
        "colab_type": "text"
      },
      "source": [
        "<a href=\"https://colab.research.google.com/github/Ra-ha/Bangla_News_Categorization/blob/main/Bangla_Newspaper_Classification_USING_BERT.ipynb\" target=\"_parent\"><img src=\"https://colab.research.google.com/assets/colab-badge.svg\" alt=\"Open In Colab\"/></a>"
      ]
    },
    {
      "cell_type": "markdown",
      "metadata": {
        "id": "0w1tzj3KJ_p-"
      },
      "source": [
        "Connect to drive"
      ]
    },
    {
      "cell_type": "code",
      "execution_count": null,
      "metadata": {
        "id": "6zOUO86ce3iA",
        "colab": {
          "base_uri": "https://localhost:8080/"
        },
        "outputId": "5ce87bf0-95ce-4bc7-96f6-6aa33296694a"
      },
      "outputs": [
        {
          "output_type": "stream",
          "name": "stdout",
          "text": [
            "Mounted at /content/drive\n"
          ]
        }
      ],
      "source": [
        "from google.colab import drive\n",
        "drive.mount('/content/drive')"
      ]
    },
    {
      "cell_type": "code",
      "execution_count": null,
      "metadata": {
        "id": "2b6PLLbiJQRO",
        "colab": {
          "base_uri": "https://localhost:8080/"
        },
        "outputId": "c4e0ec4f-c6ee-41ed-d603-8fd0775bbf78"
      },
      "outputs": [
        {
          "output_type": "stream",
          "name": "stdout",
          "text": [
            "Mounted at /root/gdrive\n"
          ]
        }
      ],
      "source": [
        "from google.colab import drive\n",
        "drive.mount('/root/gdrive', force_remount=True)"
      ]
    },
    {
      "cell_type": "code",
      "execution_count": null,
      "metadata": {
        "id": "DvtWS5k6Jf7l",
        "colab": {
          "base_uri": "https://localhost:8080/"
        },
        "outputId": "7582cc76-ac54-4e7b-d6a4-ad88653280ee"
      },
      "outputs": [
        {
          "output_type": "stream",
          "name": "stdout",
          "text": [
            "/root/gdrive/MyDrive/Bangla Newspaper classification\n"
          ]
        }
      ],
      "source": [
        "%cd /root/gdrive/MyDrive/Bangla Newspaper classification"
      ]
    },
    {
      "cell_type": "markdown",
      "metadata": {
        "id": "XgwZ6OwIUFKn"
      },
      "source": [
        "Import libraries"
      ]
    },
    {
      "cell_type": "code",
      "execution_count": null,
      "metadata": {
        "id": "GOe6R7zdUAE3"
      },
      "outputs": [],
      "source": [
        "import numpy as np\n",
        "import pandas as pd\n",
        "import matplotlib.pyplot as plt\n",
        "import pickle\n",
        "from collections import Counter"
      ]
    },
    {
      "cell_type": "markdown",
      "metadata": {
        "id": "JVyC6X1yKHdQ"
      },
      "source": [
        "Load data"
      ]
    },
    {
      "cell_type": "code",
      "execution_count": null,
      "metadata": {
        "id": "IBFFKrQCJlbd",
        "colab": {
          "base_uri": "https://localhost:8080/"
        },
        "outputId": "a2e13d0b-a881-4229-91ef-25a184f19015"
      },
      "outputs": [
        {
          "output_type": "stream",
          "name": "stdout",
          "text": [
            "{'author': 'গাজীপুর প্রতিনিধি', 'category': 'bangladesh', 'category_bn': 'বাংলাদেশ', 'published_date': '০৪ জুলাই ২০১৩, ২৩:২৬', 'modification_date': '০৪ জুলাই ২০১৩, ২৩:২৭', 'tag': ['গাজীপুর'], 'comment_count': 0, 'title': 'কালিয়াকৈরে টিফিন খেয়ে ৫০০ শ্রমিক অসুস্থ, বিক্ষোভ', 'url': 'http://www.prothom-alo.com/bangladesh/article/19030', 'content': 'গাজীপুরের কালিয়াকৈর উপজেলার তেলিরচালা এলাকায় আজ বৃহস্পতিবার রাতের টিফিন খেয়ে একটি পোশাক কারখানার ৫০০ শ্রমিক অসুস্থ হয়ে পড়েছেন। এ ঘটনায় বিক্ষোভ করেছেন ওই কারখানার শ্রমিকেরা।সফিপুর মডার্ন হাসপাতালের জরুরি বিভাগের চিকিত্সক আল আমিন প্রথম আলো ডটকমকে বলেন, খাদ্যে বিষক্রিয়ায় তাঁরা (শ্রমিকেরা) অসুস্থ হয়ে পড়েছেন। এতে আতঙ্কিত হওয়ার কিছু নেই। অসুস্থদের চিকিত্সা দেওয়া হয়েছে।কারখানার শ্রমিক ও পুলিশ সূত্রে জানা যায়, উপজেলার তেলিরচালা এলাকার সেজাদ সোয়েটার লিমিটেড কারখানার শ্রমিকদের আজ রাত সাড়ে সাতটার দিকে টিফিন দেওয়া হয়। টিফিনে ছিল ডিম, রুটি, পেটিস ও কলা। টিফিন খেয়ে শ্রমিকেরা যথারীতি কাজে যোগ দেন। ওই টিফিন খাওয়ার প্রায় এক ঘণ্টা পর রাত সাড়ে আটটার দিকে কয়েকজন শ্রমিকের বমি ও পেট ব্যথা শুরু হয়। এরপর ধীরে ধীরে পুরো কারখানার শ্রমিকেরা অসুস্থ হতে থাকে। অনেকেই কারখানার মেঝেতে ঢলে পড়ে। এতে পাঁচ শতাধিক শ্রমিক অসুস্থ হয়ে পড়ে।পরে কারখানা কর্তৃপক্ষ দ্রুত যানবাহনের ব্যবস্থা করে তাদের সফিপুর জেনারেল হাসপাতাল, সফিপুর মডার্ন হাসপাতাল, উপজেলা স্বাস্থ্য কমপ্লেক্সসহ বিভিন্ন ক্লিনিকে ভর্তি করে। বাসি পচা খাবার দেওয়ায় শ্রমিকরা ক্ষুব্ধ হয়ে কারখানার সামনে বিক্ষোভ করে। খবর পেয়ে পুলিশ গিয়ে শ্রমিকদের বুঝিয়ে ও খাবার সরবরাহ প্রতিষ্ঠানের বিরুদ্ধে ব্যবস্থা নেওয়ার আশ্বাস দিলে শ্রমিকেরা শান্ত হয়।সফিপুর জেনারেল হাসপাতালে ভর্তি শ্রমিক জাকির হোসেন ও আসমা আক্তার বলেন, টিফিন খাওয়ার সময় ডিম ও কেক থেকে দুর্গন্ধ বের হচ্ছিল। এ কারণে অনেকেই ওই খাবার খায়নি। তবে বেশির ভাগ শ্রমিকই ওই খাবার খেয়েছে।কারখানার সহকারী উত্পাদন কর্মকর্তা (এপিএম) বছির উদ্দিন বলেন, টিফিনগুলি যে ঠিকাদারি প্রতিষ্ঠান কারখানায় সরবরাহ করে তাদের বিরুদ্ধে ব্যবস্থা নেওয়া হবে।মৌচাক পুলিশ ফাঁড়ির উপ-পরিদর্শক (এসআই) সৈয়দ আজহারুল ইসলাম প্রথম আলো ডটকমকে বলেন, শ্রমিকদের বুঝিয়ে শান্ত করা হয়েছে। এ ছাড়া কারখানা কর্তৃপক্ষকে খাদ্য সরবরাহ প্রতিষ্ঠানের বিরুদ্ধে ব্যবস্থা নিতে বলা হয়েছে।'}\n"
          ]
        }
      ],
      "source": [
        "import json\n",
        "\n",
        "with open('data.json', encoding='utf-8') as fh:\n",
        "    orig_data = json.load(fh)\n",
        "print(orig_data[0])"
      ]
    },
    {
      "cell_type": "markdown",
      "metadata": {
        "id": "8BnwMArVJT7L"
      },
      "source": [
        "Trim data for test run"
      ]
    },
    {
      "cell_type": "code",
      "execution_count": null,
      "metadata": {
        "id": "teqRXy6sJTRo"
      },
      "outputs": [],
      "source": [
        "data = orig_data[:23000]"
      ]
    },
    {
      "cell_type": "markdown",
      "metadata": {
        "id": "E1M1FGvdRcHd"
      },
      "source": [
        "Visualize data"
      ]
    },
    {
      "cell_type": "code",
      "execution_count": null,
      "metadata": {
        "id": "gf2Rj6GsRJRb",
        "colab": {
          "base_uri": "https://localhost:8080/"
        },
        "outputId": "2d47c04c-39fa-4126-ee3c-4bf23ff5d32c"
      },
      "outputs": [
        {
          "output_type": "stream",
          "name": "stdout",
          "text": [
            "Total Rows: 23000\n",
            "Total Cols: 10\n"
          ]
        }
      ],
      "source": [
        "print(\"Total Rows:\", len(data))\n",
        "print(\"Total Cols:\", len(data[0]))"
      ]
    },
    {
      "cell_type": "markdown",
      "metadata": {
        "id": "2Ams1_bKM3oP"
      },
      "source": [
        "Show all columns"
      ]
    },
    {
      "cell_type": "code",
      "execution_count": null,
      "metadata": {
        "id": "z7vIW5DyRh7C",
        "colab": {
          "base_uri": "https://localhost:8080/"
        },
        "outputId": "46fa2cd5-3f11-4a91-9dbd-939a5c0ce955"
      },
      "outputs": [
        {
          "output_type": "stream",
          "name": "stdout",
          "text": [
            "<class 'list'>\n",
            "All columns:\n",
            "author\n",
            "category\n",
            "category_bn\n",
            "published_date\n",
            "modification_date\n",
            "tag\n",
            "comment_count\n",
            "title\n",
            "url\n",
            "content\n"
          ]
        }
      ],
      "source": [
        "print(type(data))\n",
        "print(\"All columns:\")\n",
        "for col in data[0]:\n",
        "  print(col)"
      ]
    },
    {
      "cell_type": "markdown",
      "metadata": {
        "id": "lZ0zyOoagDZL"
      },
      "source": [
        "Retrieve all categories"
      ]
    },
    {
      "cell_type": "code",
      "execution_count": null,
      "metadata": {
        "id": "DBtpDjXVJ2QS",
        "colab": {
          "base_uri": "https://localhost:8080/"
        },
        "outputId": "a77c9d33-43c6-4fb1-aa6c-54d39bc414d5"
      },
      "outputs": [
        {
          "output_type": "stream",
          "name": "stdout",
          "text": [
            "{'technology', 'onnoalo', 'we-are', 'kishoralo', 'sports', 'bangladesh', 'pachmisheli', 'facebook', '-1', 'entertainment', 'events', 'education', 'roshalo', 'opinion', 'economy', 'international', 'AskEditor', 'durporobash', 'life-style'}\n",
            "19\n"
          ]
        }
      ],
      "source": [
        "all_categories = set([sample['category'] for sample in data])\n",
        "print(all_categories)\n",
        "print(len(all_categories))"
      ]
    },
    {
      "cell_type": "markdown",
      "metadata": {
        "id": "7ZYQub-mf-HE"
      },
      "source": [
        "test code"
      ]
    },
    {
      "cell_type": "markdown",
      "metadata": {
        "id": "DX700LGygIYh"
      },
      "source": [
        "Sorting based on category count"
      ]
    },
    {
      "cell_type": "code",
      "execution_count": null,
      "metadata": {
        "id": "tlYg2zj2XMAS",
        "colab": {
          "base_uri": "https://localhost:8080/"
        },
        "outputId": "ee308915-5253-4b4b-ea4f-128fa94c7f2b"
      },
      "outputs": [
        {
          "output_type": "stream",
          "name": "stdout",
          "text": [
            "[{'category': 'technology', 'count': 1020}, {'category': 'onnoalo', 'count': 168}, {'category': 'we-are', 'count': 357}, {'category': 'kishoralo', 'count': 1}, {'category': 'sports', 'count': 2702}, {'category': 'bangladesh', 'count': 12226}, {'category': 'pachmisheli', 'count': 223}, {'category': 'facebook', 'count': 9}, {'category': '-1', 'count': 2}, {'category': 'entertainment', 'count': 1616}, {'category': 'events', 'count': 2}, {'category': 'education', 'count': 745}, {'category': 'roshalo', 'count': 142}, {'category': 'opinion', 'count': 752}, {'category': 'economy', 'count': 827}, {'category': 'international', 'count': 1763}, {'category': 'AskEditor', 'count': 1}, {'category': 'durporobash', 'count': 1}, {'category': 'life-style', 'count': 443}]\n",
            "[{'category': 'bangladesh', 'count': 12226}, {'category': 'sports', 'count': 2702}, {'category': 'international', 'count': 1763}, {'category': 'entertainment', 'count': 1616}, {'category': 'technology', 'count': 1020}, {'category': 'economy', 'count': 827}, {'category': 'opinion', 'count': 752}, {'category': 'education', 'count': 745}, {'category': 'life-style', 'count': 443}, {'category': 'we-are', 'count': 357}, {'category': 'pachmisheli', 'count': 223}, {'category': 'onnoalo', 'count': 168}, {'category': 'roshalo', 'count': 142}, {'category': 'facebook', 'count': 9}, {'category': '-1', 'count': 2}, {'category': 'events', 'count': 2}, {'category': 'kishoralo', 'count': 1}, {'category': 'AskEditor', 'count': 1}, {'category': 'durporobash', 'count': 1}]\n"
          ]
        }
      ],
      "source": [
        "category_count_list = []\n",
        "count = 0\n",
        "for cat in all_categories:\n",
        "  count = 0\n",
        "  for row in data:\n",
        "    if row['category'] == cat:\n",
        "      count += 1\n",
        "  category_count_list.append({'category': cat, 'count': count})\n",
        "print(category_count_list)\n",
        "\n",
        "from operator import itemgetter\n",
        "sorted_cat_count_list = []\n",
        "# sorted_cat_count_list = sorted(category_count_list, key=lambda x: x.count, reverse=True)\n",
        "category_count_list.sort(key = itemgetter('count'), reverse=True)\n",
        "print(category_count_list)"
      ]
    },
    {
      "cell_type": "markdown",
      "metadata": {
        "id": "x16W7C39p6Uc"
      },
      "source": [
        "Discard low count catagories"
      ]
    },
    {
      "cell_type": "code",
      "execution_count": null,
      "metadata": {
        "id": "7_M8jRkFdJN-",
        "colab": {
          "base_uri": "https://localhost:8080/"
        },
        "outputId": "59a803f6-b41d-466f-fa97-03e7fa78ad46"
      },
      "outputs": [
        {
          "output_type": "stream",
          "name": "stdout",
          "text": [
            "['bangladesh', 'sports', 'international', 'entertainment', 'technology', 'economy', 'opinion', 'education', 'life-style', 'we-are']\n",
            "10\n"
          ]
        }
      ],
      "source": [
        "selected_cats = []\n",
        "\n",
        "for p in category_count_list:\n",
        "    if p['count'] > 300:\n",
        "        selected_cats.append(p['category'])\n",
        "print(selected_cats)\n",
        "print(len(selected_cats))"
      ]
    },
    {
      "cell_type": "markdown",
      "metadata": {
        "id": "6gsvlmxdsHK0"
      },
      "source": [
        "Prepare data X, Y"
      ]
    },
    {
      "cell_type": "code",
      "execution_count": null,
      "metadata": {
        "id": "eeM7wizepzDf",
        "colab": {
          "base_uri": "https://localhost:8080/"
        },
        "outputId": "62bc7d17-16e8-46e6-edae-00fe63e948a0"
      },
      "outputs": [
        {
          "output_type": "stream",
          "name": "stdout",
          "text": [
            "22451 22451\n"
          ]
        }
      ],
      "source": [
        "x_text = []\n",
        "y_label = []\n",
        "\n",
        "for row in data:\n",
        "    if row['category'] in selected_cats:\n",
        "        y_label.append(row['category'])\n",
        "        x_text.append(row['content'])\n",
        "print(len(x_text),len(y_label))\n"
      ]
    },
    {
      "cell_type": "markdown",
      "metadata": {
        "id": "in7FQnWsOyKM"
      },
      "source": [
        "Split data into Train & test set"
      ]
    },
    {
      "cell_type": "code",
      "execution_count": null,
      "metadata": {
        "id": "Khxluuh3ZCYt",
        "colab": {
          "base_uri": "https://localhost:8080/"
        },
        "outputId": "574db8b7-6de2-4110-edc0-5d11a9dd690c"
      },
      "outputs": [
        {
          "output_type": "stream",
          "name": "stdout",
          "text": [
            "17451 5000\n"
          ]
        }
      ],
      "source": [
        "X_test = x_text[0:5000]\n",
        "y_test = y_label[0:5000]\n",
        "X_train = x_text[5000:]\n",
        "y_train = y_label[5000:]\n",
        "print(len(X_train),len(X_test))"
      ]
    },
    {
      "cell_type": "markdown",
      "metadata": {
        "id": "ndy5NkQTAv6F"
      },
      "source": [
        "xlm Roberta"
      ]
    },
    {
      "cell_type": "code",
      "execution_count": null,
      "metadata": {
        "id": "OJsgts95B4M6"
      },
      "outputs": [],
      "source": [
        "import tensorflow as tf\n",
        "from tensorflow.keras.optimizers import Adam\n",
        "from tensorflow.keras.callbacks import EarlyStopping\n",
        "from tensorflow.keras.initializers import TruncatedNormal\n",
        "from tensorflow.keras.losses import CategoricalCrossentropy\n",
        "from tensorflow.keras.metrics import CategoricalAccuracy\n",
        "from tensorflow.keras.utils import to_categorical\n",
        "from tensorflow.keras.layers import Input, Dense"
      ]
    },
    {
      "cell_type": "code",
      "execution_count": null,
      "metadata": {
        "id": "wtPg3DBH_232",
        "colab": {
          "base_uri": "https://localhost:8080/"
        },
        "outputId": "f1e2d0d2-debe-443c-f48f-e92e8428f838"
      },
      "outputs": [
        {
          "output_type": "stream",
          "name": "stdout",
          "text": [
            "Collecting transformers\n",
            "  Downloading transformers-4.17.0-py3-none-any.whl (3.8 MB)\n",
            "\u001b[K     |████████████████████████████████| 3.8 MB 11.9 MB/s \n",
            "\u001b[?25hRequirement already satisfied: packaging>=20.0 in /usr/local/lib/python3.7/dist-packages (from transformers) (21.3)\n",
            "Requirement already satisfied: numpy>=1.17 in /usr/local/lib/python3.7/dist-packages (from transformers) (1.21.5)\n",
            "Requirement already satisfied: filelock in /usr/local/lib/python3.7/dist-packages (from transformers) (3.6.0)\n",
            "Collecting pyyaml>=5.1\n",
            "  Downloading PyYAML-6.0-cp37-cp37m-manylinux_2_5_x86_64.manylinux1_x86_64.manylinux_2_12_x86_64.manylinux2010_x86_64.whl (596 kB)\n",
            "\u001b[K     |████████████████████████████████| 596 kB 11.2 MB/s \n",
            "\u001b[?25hCollecting tokenizers!=0.11.3,>=0.11.1\n",
            "  Downloading tokenizers-0.12.0-cp37-cp37m-manylinux_2_12_x86_64.manylinux2010_x86_64.whl (6.6 MB)\n",
            "\u001b[K     |████████████████████████████████| 6.6 MB 39.1 MB/s \n",
            "\u001b[?25hRequirement already satisfied: regex!=2019.12.17 in /usr/local/lib/python3.7/dist-packages (from transformers) (2019.12.20)\n",
            "Collecting sacremoses\n",
            "  Downloading sacremoses-0.0.49-py3-none-any.whl (895 kB)\n",
            "\u001b[K     |████████████████████████████████| 895 kB 40.9 MB/s \n",
            "\u001b[?25hRequirement already satisfied: importlib-metadata in /usr/local/lib/python3.7/dist-packages (from transformers) (4.11.3)\n",
            "Requirement already satisfied: tqdm>=4.27 in /usr/local/lib/python3.7/dist-packages (from transformers) (4.63.0)\n",
            "Requirement already satisfied: requests in /usr/local/lib/python3.7/dist-packages (from transformers) (2.23.0)\n",
            "Collecting huggingface-hub<1.0,>=0.1.0\n",
            "  Downloading huggingface_hub-0.4.0-py3-none-any.whl (67 kB)\n",
            "\u001b[K     |████████████████████████████████| 67 kB 5.0 MB/s \n",
            "\u001b[?25hRequirement already satisfied: typing-extensions>=3.7.4.3 in /usr/local/lib/python3.7/dist-packages (from huggingface-hub<1.0,>=0.1.0->transformers) (3.10.0.2)\n",
            "Requirement already satisfied: pyparsing!=3.0.5,>=2.0.2 in /usr/local/lib/python3.7/dist-packages (from packaging>=20.0->transformers) (3.0.7)\n",
            "Requirement already satisfied: zipp>=0.5 in /usr/local/lib/python3.7/dist-packages (from importlib-metadata->transformers) (3.7.0)\n",
            "Requirement already satisfied: chardet<4,>=3.0.2 in /usr/local/lib/python3.7/dist-packages (from requests->transformers) (3.0.4)\n",
            "Requirement already satisfied: urllib3!=1.25.0,!=1.25.1,<1.26,>=1.21.1 in /usr/local/lib/python3.7/dist-packages (from requests->transformers) (1.24.3)\n",
            "Requirement already satisfied: certifi>=2017.4.17 in /usr/local/lib/python3.7/dist-packages (from requests->transformers) (2021.10.8)\n",
            "Requirement already satisfied: idna<3,>=2.5 in /usr/local/lib/python3.7/dist-packages (from requests->transformers) (2.10)\n",
            "Requirement already satisfied: joblib in /usr/local/lib/python3.7/dist-packages (from sacremoses->transformers) (1.1.0)\n",
            "Requirement already satisfied: click in /usr/local/lib/python3.7/dist-packages (from sacremoses->transformers) (7.1.2)\n",
            "Requirement already satisfied: six in /usr/local/lib/python3.7/dist-packages (from sacremoses->transformers) (1.15.0)\n",
            "Installing collected packages: pyyaml, tokenizers, sacremoses, huggingface-hub, transformers\n",
            "  Attempting uninstall: pyyaml\n",
            "    Found existing installation: PyYAML 3.13\n",
            "    Uninstalling PyYAML-3.13:\n",
            "      Successfully uninstalled PyYAML-3.13\n",
            "Successfully installed huggingface-hub-0.4.0 pyyaml-6.0 sacremoses-0.0.49 tokenizers-0.12.0 transformers-4.17.0\n"
          ]
        }
      ],
      "source": [
        "!pip install transformers\n",
        "import transformers"
      ]
    },
    {
      "cell_type": "code",
      "execution_count": null,
      "metadata": {
        "id": "TrXSULglOULZ",
        "colab": {
          "base_uri": "https://localhost:8080/"
        },
        "outputId": "c651711e-46f2-4bd1-ffba-267a83bc756c"
      },
      "outputs": [
        {
          "output_type": "stream",
          "name": "stdout",
          "text": [
            "Collecting sentencepiece\n",
            "  Downloading sentencepiece-0.1.96-cp37-cp37m-manylinux_2_17_x86_64.manylinux2014_x86_64.whl (1.2 MB)\n",
            "\u001b[?25l\r\u001b[K     |▎                               | 10 kB 21.7 MB/s eta 0:00:01\r\u001b[K     |▌                               | 20 kB 23.6 MB/s eta 0:00:01\r\u001b[K     |▉                               | 30 kB 25.3 MB/s eta 0:00:01\r\u001b[K     |█                               | 40 kB 13.1 MB/s eta 0:00:01\r\u001b[K     |█▍                              | 51 kB 12.4 MB/s eta 0:00:01\r\u001b[K     |█▋                              | 61 kB 14.1 MB/s eta 0:00:01\r\u001b[K     |██                              | 71 kB 11.3 MB/s eta 0:00:01\r\u001b[K     |██▏                             | 81 kB 12.3 MB/s eta 0:00:01\r\u001b[K     |██▍                             | 92 kB 13.4 MB/s eta 0:00:01\r\u001b[K     |██▊                             | 102 kB 12.3 MB/s eta 0:00:01\r\u001b[K     |███                             | 112 kB 12.3 MB/s eta 0:00:01\r\u001b[K     |███▎                            | 122 kB 12.3 MB/s eta 0:00:01\r\u001b[K     |███▌                            | 133 kB 12.3 MB/s eta 0:00:01\r\u001b[K     |███▉                            | 143 kB 12.3 MB/s eta 0:00:01\r\u001b[K     |████                            | 153 kB 12.3 MB/s eta 0:00:01\r\u001b[K     |████▎                           | 163 kB 12.3 MB/s eta 0:00:01\r\u001b[K     |████▋                           | 174 kB 12.3 MB/s eta 0:00:01\r\u001b[K     |████▉                           | 184 kB 12.3 MB/s eta 0:00:01\r\u001b[K     |█████▏                          | 194 kB 12.3 MB/s eta 0:00:01\r\u001b[K     |█████▍                          | 204 kB 12.3 MB/s eta 0:00:01\r\u001b[K     |█████▊                          | 215 kB 12.3 MB/s eta 0:00:01\r\u001b[K     |██████                          | 225 kB 12.3 MB/s eta 0:00:01\r\u001b[K     |██████▏                         | 235 kB 12.3 MB/s eta 0:00:01\r\u001b[K     |██████▌                         | 245 kB 12.3 MB/s eta 0:00:01\r\u001b[K     |██████▊                         | 256 kB 12.3 MB/s eta 0:00:01\r\u001b[K     |███████                         | 266 kB 12.3 MB/s eta 0:00:01\r\u001b[K     |███████▎                        | 276 kB 12.3 MB/s eta 0:00:01\r\u001b[K     |███████▋                        | 286 kB 12.3 MB/s eta 0:00:01\r\u001b[K     |███████▉                        | 296 kB 12.3 MB/s eta 0:00:01\r\u001b[K     |████████                        | 307 kB 12.3 MB/s eta 0:00:01\r\u001b[K     |████████▍                       | 317 kB 12.3 MB/s eta 0:00:01\r\u001b[K     |████████▋                       | 327 kB 12.3 MB/s eta 0:00:01\r\u001b[K     |█████████                       | 337 kB 12.3 MB/s eta 0:00:01\r\u001b[K     |█████████▏                      | 348 kB 12.3 MB/s eta 0:00:01\r\u001b[K     |█████████▌                      | 358 kB 12.3 MB/s eta 0:00:01\r\u001b[K     |█████████▊                      | 368 kB 12.3 MB/s eta 0:00:01\r\u001b[K     |██████████                      | 378 kB 12.3 MB/s eta 0:00:01\r\u001b[K     |██████████▎                     | 389 kB 12.3 MB/s eta 0:00:01\r\u001b[K     |██████████▌                     | 399 kB 12.3 MB/s eta 0:00:01\r\u001b[K     |██████████▉                     | 409 kB 12.3 MB/s eta 0:00:01\r\u001b[K     |███████████                     | 419 kB 12.3 MB/s eta 0:00:01\r\u001b[K     |███████████▍                    | 430 kB 12.3 MB/s eta 0:00:01\r\u001b[K     |███████████▋                    | 440 kB 12.3 MB/s eta 0:00:01\r\u001b[K     |███████████▉                    | 450 kB 12.3 MB/s eta 0:00:01\r\u001b[K     |████████████▏                   | 460 kB 12.3 MB/s eta 0:00:01\r\u001b[K     |████████████▍                   | 471 kB 12.3 MB/s eta 0:00:01\r\u001b[K     |████████████▊                   | 481 kB 12.3 MB/s eta 0:00:01\r\u001b[K     |█████████████                   | 491 kB 12.3 MB/s eta 0:00:01\r\u001b[K     |█████████████▎                  | 501 kB 12.3 MB/s eta 0:00:01\r\u001b[K     |█████████████▌                  | 512 kB 12.3 MB/s eta 0:00:01\r\u001b[K     |█████████████▊                  | 522 kB 12.3 MB/s eta 0:00:01\r\u001b[K     |██████████████                  | 532 kB 12.3 MB/s eta 0:00:01\r\u001b[K     |██████████████▎                 | 542 kB 12.3 MB/s eta 0:00:01\r\u001b[K     |██████████████▋                 | 552 kB 12.3 MB/s eta 0:00:01\r\u001b[K     |██████████████▉                 | 563 kB 12.3 MB/s eta 0:00:01\r\u001b[K     |███████████████▏                | 573 kB 12.3 MB/s eta 0:00:01\r\u001b[K     |███████████████▍                | 583 kB 12.3 MB/s eta 0:00:01\r\u001b[K     |███████████████▋                | 593 kB 12.3 MB/s eta 0:00:01\r\u001b[K     |████████████████                | 604 kB 12.3 MB/s eta 0:00:01\r\u001b[K     |████████████████▏               | 614 kB 12.3 MB/s eta 0:00:01\r\u001b[K     |████████████████▌               | 624 kB 12.3 MB/s eta 0:00:01\r\u001b[K     |████████████████▊               | 634 kB 12.3 MB/s eta 0:00:01\r\u001b[K     |█████████████████               | 645 kB 12.3 MB/s eta 0:00:01\r\u001b[K     |█████████████████▎              | 655 kB 12.3 MB/s eta 0:00:01\r\u001b[K     |█████████████████▌              | 665 kB 12.3 MB/s eta 0:00:01\r\u001b[K     |█████████████████▉              | 675 kB 12.3 MB/s eta 0:00:01\r\u001b[K     |██████████████████              | 686 kB 12.3 MB/s eta 0:00:01\r\u001b[K     |██████████████████▍             | 696 kB 12.3 MB/s eta 0:00:01\r\u001b[K     |██████████████████▋             | 706 kB 12.3 MB/s eta 0:00:01\r\u001b[K     |███████████████████             | 716 kB 12.3 MB/s eta 0:00:01\r\u001b[K     |███████████████████▏            | 727 kB 12.3 MB/s eta 0:00:01\r\u001b[K     |███████████████████▍            | 737 kB 12.3 MB/s eta 0:00:01\r\u001b[K     |███████████████████▊            | 747 kB 12.3 MB/s eta 0:00:01\r\u001b[K     |████████████████████            | 757 kB 12.3 MB/s eta 0:00:01\r\u001b[K     |████████████████████▎           | 768 kB 12.3 MB/s eta 0:00:01\r\u001b[K     |████████████████████▌           | 778 kB 12.3 MB/s eta 0:00:01\r\u001b[K     |████████████████████▉           | 788 kB 12.3 MB/s eta 0:00:01\r\u001b[K     |█████████████████████           | 798 kB 12.3 MB/s eta 0:00:01\r\u001b[K     |█████████████████████▎          | 808 kB 12.3 MB/s eta 0:00:01\r\u001b[K     |█████████████████████▋          | 819 kB 12.3 MB/s eta 0:00:01\r\u001b[K     |█████████████████████▉          | 829 kB 12.3 MB/s eta 0:00:01\r\u001b[K     |██████████████████████▏         | 839 kB 12.3 MB/s eta 0:00:01\r\u001b[K     |██████████████████████▍         | 849 kB 12.3 MB/s eta 0:00:01\r\u001b[K     |██████████████████████▊         | 860 kB 12.3 MB/s eta 0:00:01\r\u001b[K     |███████████████████████         | 870 kB 12.3 MB/s eta 0:00:01\r\u001b[K     |███████████████████████▏        | 880 kB 12.3 MB/s eta 0:00:01\r\u001b[K     |███████████████████████▌        | 890 kB 12.3 MB/s eta 0:00:01\r\u001b[K     |███████████████████████▊        | 901 kB 12.3 MB/s eta 0:00:01\r\u001b[K     |████████████████████████        | 911 kB 12.3 MB/s eta 0:00:01\r\u001b[K     |████████████████████████▎       | 921 kB 12.3 MB/s eta 0:00:01\r\u001b[K     |████████████████████████▋       | 931 kB 12.3 MB/s eta 0:00:01\r\u001b[K     |████████████████████████▉       | 942 kB 12.3 MB/s eta 0:00:01\r\u001b[K     |█████████████████████████       | 952 kB 12.3 MB/s eta 0:00:01\r\u001b[K     |█████████████████████████▍      | 962 kB 12.3 MB/s eta 0:00:01\r\u001b[K     |█████████████████████████▋      | 972 kB 12.3 MB/s eta 0:00:01\r\u001b[K     |██████████████████████████      | 983 kB 12.3 MB/s eta 0:00:01\r\u001b[K     |██████████████████████████▏     | 993 kB 12.3 MB/s eta 0:00:01\r\u001b[K     |██████████████████████████▌     | 1.0 MB 12.3 MB/s eta 0:00:01\r\u001b[K     |██████████████████████████▊     | 1.0 MB 12.3 MB/s eta 0:00:01\r\u001b[K     |███████████████████████████     | 1.0 MB 12.3 MB/s eta 0:00:01\r\u001b[K     |███████████████████████████▎    | 1.0 MB 12.3 MB/s eta 0:00:01\r\u001b[K     |███████████████████████████▌    | 1.0 MB 12.3 MB/s eta 0:00:01\r\u001b[K     |███████████████████████████▉    | 1.1 MB 12.3 MB/s eta 0:00:01\r\u001b[K     |████████████████████████████    | 1.1 MB 12.3 MB/s eta 0:00:01\r\u001b[K     |████████████████████████████▍   | 1.1 MB 12.3 MB/s eta 0:00:01\r\u001b[K     |████████████████████████████▋   | 1.1 MB 12.3 MB/s eta 0:00:01\r\u001b[K     |████████████████████████████▉   | 1.1 MB 12.3 MB/s eta 0:00:01\r\u001b[K     |█████████████████████████████▏  | 1.1 MB 12.3 MB/s eta 0:00:01\r\u001b[K     |█████████████████████████████▍  | 1.1 MB 12.3 MB/s eta 0:00:01\r\u001b[K     |█████████████████████████████▊  | 1.1 MB 12.3 MB/s eta 0:00:01\r\u001b[K     |██████████████████████████████  | 1.1 MB 12.3 MB/s eta 0:00:01\r\u001b[K     |██████████████████████████████▎ | 1.1 MB 12.3 MB/s eta 0:00:01\r\u001b[K     |██████████████████████████████▌ | 1.2 MB 12.3 MB/s eta 0:00:01\r\u001b[K     |██████████████████████████████▊ | 1.2 MB 12.3 MB/s eta 0:00:01\r\u001b[K     |███████████████████████████████ | 1.2 MB 12.3 MB/s eta 0:00:01\r\u001b[K     |███████████████████████████████▎| 1.2 MB 12.3 MB/s eta 0:00:01\r\u001b[K     |███████████████████████████████▋| 1.2 MB 12.3 MB/s eta 0:00:01\r\u001b[K     |███████████████████████████████▉| 1.2 MB 12.3 MB/s eta 0:00:01\r\u001b[K     |████████████████████████████████| 1.2 MB 12.3 MB/s \n",
            "\u001b[?25hInstalling collected packages: sentencepiece\n",
            "Successfully installed sentencepiece-0.1.96\n"
          ]
        }
      ],
      "source": [
        "!pip install sentencepiece"
      ]
    },
    {
      "cell_type": "code",
      "execution_count": null,
      "metadata": {
        "id": "LhHADt8UAzOE",
        "colab": {
          "base_uri": "https://localhost:8080/",
          "height": 225,
          "referenced_widgets": [
            "f293247baf4a4f899a545c3498ebcec5",
            "a17ff629616146058e908aba8cbb35af",
            "194301b4d01d4a06ac657be104127cb1",
            "62d55119620f41bea70b4c50d4eb7c83",
            "2bf5878dc29d473ebd33a6159ad73b07",
            "eabfe3028d374943b14c1ab31034fd2f",
            "3828ab61c94e4ef8899d20530d6ac41d",
            "19c0e068e23d4cc0811fdc9e748578dd",
            "56b4fc6983784fa0926b7227eb5c0aa9",
            "7df662ac3feb4c99beaa8bd36294d0cc",
            "7ee85a730d6f4e85a64953de44d26c81",
            "a9dd3b2a7f3d41da9555a5cd9541660d",
            "70b3e4df941e472eb7ffb2566a1e3729",
            "4f2dffb1dc14471e9819e8c4ed6f72a4",
            "d0c94afe8d1740b7a8cd42b84f321886",
            "e7b1dd99bed948669a9eee6c3fda2287",
            "0ba0101e32804c14886a412a86aca5c6",
            "373959fd7d3d48e3831121b1462f2d4e",
            "58469d3c6d644f8c8480b2aa27db5664",
            "a4b11bc3c3824a44a8545f3ff454dc58",
            "32d18c8581934df496c5c4b05f0f80ff",
            "1d7e9126972146b7a9bea2c146b350f5",
            "d8c17ca6840b4d87b92965aa5c4bc6ed",
            "32321364a315493f894c443e59687c41",
            "1f2a05c9b4e14dcea5960cb269093b82",
            "70ee16803b2a4a94a25638dbade8e623",
            "aa1c15793f0d4c1682875db425830e8d",
            "c55503a5b71b4aeeaec4deab1ca95769",
            "3d0a25e97f314f50a91b9a92b1101816",
            "cb8d0fcd2d8e4b46b2e4424d3e4df2c3",
            "40019e834f214809865a8d276beffac6",
            "197ea31590d14b11a4177dd87441a1bb",
            "d1a5a375bf764238a70ad5cd291ea5b5"
          ]
        },
        "outputId": "57d43a40-9051-4af0-e69a-fcfff8b46f73"
      },
      "outputs": [
        {
          "output_type": "display_data",
          "data": {
            "text/plain": [
              "Downloading:   0%|          | 0.00/512 [00:00<?, ?B/s]"
            ],
            "application/vnd.jupyter.widget-view+json": {
              "version_major": 2,
              "version_minor": 0,
              "model_id": "f293247baf4a4f899a545c3498ebcec5"
            }
          },
          "metadata": {}
        },
        {
          "output_type": "display_data",
          "data": {
            "text/plain": [
              "Downloading:   0%|          | 0.00/4.83M [00:00<?, ?B/s]"
            ],
            "application/vnd.jupyter.widget-view+json": {
              "version_major": 2,
              "version_minor": 0,
              "model_id": "a9dd3b2a7f3d41da9555a5cd9541660d"
            }
          },
          "metadata": {}
        },
        {
          "output_type": "display_data",
          "data": {
            "text/plain": [
              "Downloading:   0%|          | 0.00/1.76G [00:00<?, ?B/s]"
            ],
            "application/vnd.jupyter.widget-view+json": {
              "version_major": 2,
              "version_minor": 0,
              "model_id": "d8c17ca6840b4d87b92965aa5c4bc6ed"
            }
          },
          "metadata": {}
        },
        {
          "output_type": "stream",
          "name": "stderr",
          "text": [
            "Some layers from the model checkpoint at jplu/tf-xlm-roberta-base were not used when initializing TFXLMRobertaModel: ['lm_head']\n",
            "- This IS expected if you are initializing TFXLMRobertaModel from the checkpoint of a model trained on another task or with another architecture (e.g. initializing a BertForSequenceClassification model from a BertForPreTraining model).\n",
            "- This IS NOT expected if you are initializing TFXLMRobertaModel from the checkpoint of a model that you expect to be exactly identical (initializing a BertForSequenceClassification model from a BertForSequenceClassification model).\n",
            "All the layers of TFXLMRobertaModel were initialized from the model checkpoint at jplu/tf-xlm-roberta-base.\n",
            "If your task is similar to the task the model of the checkpoint was trained on, you can already use TFXLMRobertaModel for predictions without further training.\n"
          ]
        }
      ],
      "source": [
        "from transformers import AutoTokenizer, TFAutoModel, TFXLMRobertaModel\n",
        "\n",
        "bert_tokenizer = AutoTokenizer.from_pretrained('jplu/tf-xlm-roberta-base')\n",
        "# bert_model = TFAutoModel.from_pretrained(\"jplu/tf-xlm-roberta-large\")\n",
        "bert_model = TFXLMRobertaModel.from_pretrained('jplu/tf-xlm-roberta-base')"
      ]
    },
    {
      "cell_type": "markdown",
      "metadata": {
        "id": "ZhUJfKMkM5se"
      },
      "source": [
        "Tokenize x"
      ]
    },
    {
      "cell_type": "code",
      "execution_count": null,
      "metadata": {
        "id": "c2u0rhhdA1zA"
      },
      "outputs": [],
      "source": [
        "# Tokenize the input (takes some time) \n",
        "# here tokenizer using from bert-base-cased\n",
        "x_train = bert_tokenizer(\n",
        "    text=X_train,\n",
        "    add_special_tokens=True,\n",
        "    max_length=512,\n",
        "    truncation=True,\n",
        "    padding=True, \n",
        "    return_tensors='tf',\n",
        "    return_token_type_ids = False,\n",
        "    return_attention_mask = True,\n",
        "    verbose = True)\n",
        "x_test = bert_tokenizer(\n",
        "    text=X_test,\n",
        "    add_special_tokens=True,\n",
        "    max_length=512,\n",
        "    truncation=True,\n",
        "    padding=True, \n",
        "    return_tensors='tf',\n",
        "    return_token_type_ids = False,\n",
        "    return_attention_mask = True,\n",
        "    verbose = True)"
      ]
    },
    {
      "cell_type": "code",
      "execution_count": null,
      "metadata": {
        "id": "2GI50hh3BhHd"
      },
      "outputs": [],
      "source": [
        "input_ids = x_train['input_ids']\n",
        "attention_mask = x_train['attention_mask']"
      ]
    },
    {
      "cell_type": "markdown",
      "metadata": {
        "id": "2FiIc-KgZyEH"
      },
      "source": [
        "One hot encoding of Y"
      ]
    },
    {
      "cell_type": "code",
      "execution_count": null,
      "metadata": {
        "id": "kbrwpptcdjt4"
      },
      "outputs": [],
      "source": [
        "from sklearn.preprocessing import LabelEncoder\n",
        "from sklearn.preprocessing import OneHotEncoder\n",
        "def make_ohe(y_label):\n",
        "  # Label Encode\n",
        "  encoder = LabelEncoder()\n",
        "  class_labels = encoder.fit_transform(y_label)\n",
        "  print(class_labels,len(class_labels),class_labels.shape)\n",
        "  print(set(class_labels))\n",
        "\n",
        "  #One hot Encode\n",
        "  encoder = OneHotEncoder(sparse=False)\n",
        "  class_labels = class_labels.reshape((class_labels.shape[0], 1))\n",
        "  y_ohe = encoder.fit_transform(class_labels)\n",
        "  print(y_ohe,y_ohe.shape)\n",
        "  return y_ohe"
      ]
    },
    {
      "cell_type": "code",
      "execution_count": null,
      "metadata": {
        "id": "-DMyozjsdlFh"
      },
      "outputs": [],
      "source": [
        "y_train = make_ohe(y_train)\n",
        "print(type(y_train))"
      ]
    },
    {
      "cell_type": "code",
      "execution_count": null,
      "metadata": {
        "id": "jtmlD_cldnwI"
      },
      "outputs": [],
      "source": [
        "y_test = make_ohe(y_test)\n",
        "print(type(y_test))"
      ]
    },
    {
      "cell_type": "code",
      "execution_count": null,
      "metadata": {
        "id": "thwpB7bBB5En",
        "colab": {
          "base_uri": "https://localhost:8080/"
        },
        "outputId": "c1598a86-360d-497d-bc67-9559acc1fb5e"
      },
      "outputs": [
        {
          "output_type": "stream",
          "name": "stdout",
          "text": [
            "Model: \"model\"\n",
            "__________________________________________________________________________________________________\n",
            " Layer (type)                   Output Shape         Param #     Connected to                     \n",
            "==================================================================================================\n",
            " input_ids (InputLayer)         [(None, 512)]        0           []                               \n",
            "                                                                                                  \n",
            " attention_mask (InputLayer)    [(None, 512)]        0           []                               \n",
            "                                                                                                  \n",
            " tfxlm_roberta_model (TFXLMRobe  TFBaseModelOutputWi  278043648  ['input_ids[0][0]',              \n",
            " rtaModel)                      thPoolingAndCrossAt               'attention_mask[0][0]']         \n",
            "                                tentions(last_hidde                                               \n",
            "                                n_state=(None, 512,                                               \n",
            "                                 768),                                                            \n",
            "                                 pooler_output=(Non                                               \n",
            "                                e, 768),                                                          \n",
            "                                 past_key_values=No                                               \n",
            "                                ne, hidden_states=N                                               \n",
            "                                one, attentions=Non                                               \n",
            "                                e, cross_attentions                                               \n",
            "                                =None)                                                            \n",
            "                                                                                                  \n",
            " global_max_pooling1d (GlobalMa  (None, 768)         0           ['tfxlm_roberta_model[0][0]']    \n",
            " xPooling1D)                                                                                      \n",
            "                                                                                                  \n",
            " dense (Dense)                  (None, 32)           24608       ['global_max_pooling1d[0][0]']   \n",
            "                                                                                                  \n",
            " dense_1 (Dense)                (None, 10)           330         ['dense[0][0]']                  \n",
            "                                                                                                  \n",
            "==================================================================================================\n",
            "Total params: 278,068,586\n",
            "Trainable params: 278,068,586\n",
            "Non-trainable params: 0\n",
            "__________________________________________________________________________________________________\n"
          ]
        }
      ],
      "source": [
        "max_len = 512\n",
        "input_ids = Input(shape=(max_len,), dtype=tf.int32, name=\"input_ids\")\n",
        "input_mask = Input(shape=(max_len,), dtype=tf.int32, name=\"attention_mask\")\n",
        "embeddings = bert_model(input_ids,attention_mask = input_mask)[0] \n",
        "out = tf.keras.layers.GlobalMaxPool1D()(embeddings)\n",
        "# out = Dense(128, activation='relu')(out)\n",
        "# out = tf.keras.layers.Dropout(0.1)(out)\n",
        "out = Dense(32,activation = 'relu')(out)\n",
        "y = Dense(10,activation = 'softmax')(out)\n",
        "model = tf.keras.Model(inputs=[input_ids, input_mask], outputs=y)\n",
        "model.layers[2].trainable = True\n",
        "model.summary()"
      ]
    },
    {
      "cell_type": "code",
      "execution_count": null,
      "metadata": {
        "id": "cM3wBYIdB-LN"
      },
      "outputs": [],
      "source": [
        "optimizer = Adam(\n",
        "    learning_rate=5e-05, # this learning rate is for bert model , taken from huggingface website \n",
        "    epsilon=1e-08,\n",
        "    decay=0.01,\n",
        "    clipnorm=1.0)\n",
        "# Set loss and metrics\n",
        "# loss =CategoricalCrossentropy(from_logits = True)\n",
        "# metrics = CategoricalAccuracy('balanced_accuracy'),\n",
        "loss='categorical_crossentropy'\n",
        "metrics=['accuracy']\n",
        "# Compile the model\n",
        "model.compile(\n",
        "    optimizer = optimizer,\n",
        "    loss = loss, \n",
        "    metrics = metrics)"
      ]
    },
    {
      "cell_type": "code",
      "execution_count": null,
      "metadata": {
        "id": "yScFsWgLdcnu"
      },
      "outputs": [],
      "source": [
        "checkpoint = tf.keras.callbacks.ModelCheckpoint('xlmRoberta_22k.h5', monitor='loss', save_best_only=True, verbose=1)\n",
        "earlystopping = tf.keras.callbacks.EarlyStopping(monitor='val_accuracy', patience=3, verbose=1)"
      ]
    },
    {
      "cell_type": "markdown",
      "metadata": {
        "id": "IIF76MTUZYOU"
      },
      "source": [
        ""
      ]
    },
    {
      "cell_type": "code",
      "execution_count": null,
      "metadata": {
        "id": "nEtRg6FOWdQd",
        "colab": {
          "base_uri": "https://localhost:8080/"
        },
        "outputId": "32d3213a-5fa6-40f9-830e-95e79b9b43d5"
      },
      "outputs": [
        {
          "output_type": "stream",
          "name": "stdout",
          "text": [
            "Epoch 1/5\n",
            "WARNING:tensorflow:Gradients do not exist for variables ['tfxlm_roberta_model/roberta/pooler/dense/kernel:0', 'tfxlm_roberta_model/roberta/pooler/dense/bias:0'] when minimizing the loss. If you're using `model.compile()`, did you forget to provide a `loss`argument?\n",
            "WARNING:tensorflow:Gradients do not exist for variables ['tfxlm_roberta_model/roberta/pooler/dense/kernel:0', 'tfxlm_roberta_model/roberta/pooler/dense/bias:0'] when minimizing the loss. If you're using `model.compile()`, did you forget to provide a `loss`argument?\n",
            "1745/1745 [==============================] - ETA: 0s - loss: 1.3541 - accuracy: 0.6130\n",
            "Epoch 1: loss improved from inf to 1.35407, saving model to xlmRoberta_22k.h5\n",
            "1745/1745 [==============================] - 3309s 2s/step - loss: 1.3541 - accuracy: 0.6130 - val_loss: 1.5649 - val_accuracy: 0.6321\n",
            "Epoch 2/5\n",
            "1745/1745 [==============================] - ETA: 0s - loss: 0.7344 - accuracy: 0.7812\n",
            "Epoch 2: loss improved from 1.35407 to 0.73438, saving model to xlmRoberta_22k.h5\n",
            "1745/1745 [==============================] - 3259s 2s/step - loss: 0.7344 - accuracy: 0.7812 - val_loss: 1.1132 - val_accuracy: 0.8048\n",
            "Epoch 3/5\n",
            "1745/1745 [==============================] - ETA: 0s - loss: 0.5463 - accuracy: 0.8452\n",
            "Epoch 3: loss improved from 0.73438 to 0.54626, saving model to xlmRoberta_22k.h5\n",
            "1745/1745 [==============================] - 3251s 2s/step - loss: 0.5463 - accuracy: 0.8452 - val_loss: 0.9574 - val_accuracy: 0.8161\n",
            "Epoch 4/5\n",
            "1745/1745 [==============================] - ETA: 0s - loss: 0.4902 - accuracy: 0.8616\n",
            "Epoch 4: loss improved from 0.54626 to 0.49018, saving model to xlmRoberta_22k.h5\n",
            "1745/1745 [==============================] - 3251s 2s/step - loss: 0.4902 - accuracy: 0.8616 - val_loss: 0.8492 - val_accuracy: 0.8424\n",
            "Epoch 5/5\n",
            "1745/1745 [==============================] - ETA: 0s - loss: 0.4529 - accuracy: 0.8716\n",
            "Epoch 5: loss improved from 0.49018 to 0.45286, saving model to xlmRoberta_22k.h5\n",
            "1745/1745 [==============================] - 3253s 2s/step - loss: 0.4529 - accuracy: 0.8716 - val_loss: 0.7692 - val_accuracy: 0.8569\n"
          ]
        }
      ],
      "source": [
        "train_history = model.fit(x ={'input_ids':x_train['input_ids'],'attention_mask':x_train['attention_mask']},validation_split=0.4,callbacks=[checkpoint, earlystopping],y= y_train, epochs=5, batch_size = 6)"
      ]
    },
    {
      "cell_type": "code",
      "source": [
        "# list all data in history\n",
        "print(train_history.history.keys())\n",
        "# summarize history for accuracy\n",
        "plt.plot(train_history.history['accuracy'])\n",
        "plt.plot(train_history.history['val_accuracy'])\n",
        "plt.title('model accuracy')\n",
        "plt.ylabel('accuracy')\n",
        "plt.xlabel('epoch')\n",
        "plt.legend(['train', 'validation'], loc='upper left')\n",
        "plt.show()\n",
        "# summarize history for loss\n",
        "plt.plot(train_history.history['loss'])\n",
        "plt.plot(train_history.history['val_loss'])\n",
        "plt.title('model loss')\n",
        "plt.ylabel('loss')\n",
        "plt.xlabel('epoch')\n",
        "plt.legend(['train', 'validation'], loc='upper left')\n",
        "plt.show()"
      ],
      "metadata": {
        "id": "tConWp0iZPes",
        "colab": {
          "base_uri": "https://localhost:8080/",
          "height": 591
        },
        "outputId": "6315e6ff-c462-4e40-9189-c2dc31d2d210"
      },
      "execution_count": null,
      "outputs": [
        {
          "output_type": "stream",
          "name": "stdout",
          "text": [
            "dict_keys(['loss', 'accuracy', 'val_loss', 'val_accuracy'])\n"
          ]
        },
        {
          "output_type": "display_data",
          "data": {
            "text/plain": [
              "<Figure size 432x288 with 1 Axes>"
            ],
            "image/png": "[encoded data removed]"
          },
          "metadata": {
            "needs_background": "light"
          }
        },
        {
          "output_type": "display_data",
          "data": {
            "text/plain": [
              "<Figure size 432x288 with 1 Axes>"
            ],
            "image/png": "[encoded data removed]"
          },
          "metadata": {
            "needs_background": "light"
          }
        }
      ]
    },
    {
      "cell_type": "code",
      "execution_count": null,
      "metadata": {
        "id": "97MRGFDh7g4A"
      },
      "outputs": [],
      "source": [
        "model.save(\"xlmRoberta_22k.h5\")"
      ]
    },
    {
      "cell_type": "code",
      "execution_count": null,
      "metadata": {
        "id": "7g1NzG70No5_"
      },
      "outputs": [],
      "source": [
        "from sklearn.metrics import classification_report\n",
        "from sklearn.metrics import confusion_matrix"
      ]
    },
    {
      "cell_type": "markdown",
      "metadata": {
        "id": "_HoKF1WaOX1U"
      },
      "source": [
        "Train accuracy"
      ]
    },
    {
      "cell_type": "code",
      "execution_count": null,
      "metadata": {
        "id": "JZEFfpHnNxET",
        "colab": {
          "base_uri": "https://localhost:8080/"
        },
        "outputId": "6f9f4d07-3a11-4154-ed2a-1304a8eea9aa"
      },
      "outputs": [
        {
          "output_type": "execute_result",
          "data": {
            "text/plain": [
              "array([8.4868893e-03, 1.0969907e-02, 6.1140633e-03, 6.7531511e-02,\n",
              "       4.0986720e-02, 5.0625694e-03, 1.4910587e-03, 1.7545404e-02,\n",
              "       8.4147626e-01, 3.3553765e-04], dtype=float32)"
            ]
          },
          "metadata": {},
          "execution_count": 30
        }
      ],
      "source": [
        "predicted_raw_train = model.predict({'input_ids':x_train['input_ids'],'attention_mask':x_train['attention_mask']})\n",
        "predicted_raw_train[0]"
      ]
    },
    {
      "cell_type": "code",
      "execution_count": null,
      "metadata": {
        "id": "80T-z5JFN6xs",
        "colab": {
          "base_uri": "https://localhost:8080/"
        },
        "outputId": "ca5a66ce-f303-40ef-8323-39828681cc98"
      },
      "outputs": [
        {
          "output_type": "stream",
          "name": "stdout",
          "text": [
            "              precision    recall  f1-score   support\n",
            "\n",
            "           0       0.96      0.90      0.93      9509\n",
            "           1       0.53      0.80      0.63       622\n",
            "           2       0.77      0.86      0.81       594\n",
            "           3       0.83      0.90      0.86      1267\n",
            "           4       0.72      0.88      0.79      1367\n",
            "           5       0.77      0.56      0.65       337\n",
            "           6       0.44      0.64      0.52       581\n",
            "           7       0.97      0.94      0.96      2085\n",
            "           8       0.88      0.77      0.82       790\n",
            "           9       0.35      0.09      0.14       299\n",
            "\n",
            "    accuracy                           0.86     17451\n",
            "   macro avg       0.72      0.73      0.71     17451\n",
            "weighted avg       0.88      0.86      0.87     17451\n",
            "\n",
            "[[8558  301   45   67  275    1  214   15   23   10]\n",
            " [  97  495    2    1    9    0    5    1   12    0]\n",
            " [  27    4  512    5    2    0   38    4    0    2]\n",
            " [  30    0    3 1137   43    6   20   14    5    9]\n",
            " [  56   17    3   22 1208    4   26    5   22    4]\n",
            " [   8   14   40   14    6  189   42    7    8    9]\n",
            " [  59   43   26   15   37    7  374    1    5   14]\n",
            " [  20    4    3   46   25    5    6 1969    4    3]\n",
            " [  15   57   14   17   55   20    5    2  605    0]\n",
            " [  28    4   19   51   27   15  122    4    2   27]]\n"
          ]
        }
      ],
      "source": [
        "y_predicted_train = np.argmax(predicted_raw_train, axis = 1)\n",
        "y_true_train = np.argmax(y_train, axis = 1)\n",
        "print(classification_report(y_true_train, y_predicted_train))\n",
        "print(confusion_matrix(y_true_train, y_predicted_train))"
      ]
    },
    {
      "cell_type": "markdown",
      "metadata": {
        "id": "E2WB2VjeNQsE"
      },
      "source": [
        "Test accuracy"
      ]
    },
    {
      "cell_type": "code",
      "execution_count": null,
      "metadata": {
        "id": "Eqoo5BY4CHwX",
        "colab": {
          "base_uri": "https://localhost:8080/"
        },
        "outputId": "def71e4c-1a88-462e-bd92-9599969e80f5"
      },
      "outputs": [
        {
          "output_type": "execute_result",
          "data": {
            "text/plain": [
              "array([0.48936749, 0.08851821, 0.04347318, 0.11170283, 0.1096868 ,\n",
              "       0.00962446, 0.06273017, 0.04807385, 0.02228068, 0.01454228],\n",
              "      dtype=float32)"
            ]
          },
          "metadata": {},
          "execution_count": 32
        }
      ],
      "source": [
        "predicted_raw = model.predict({'input_ids':x_test['input_ids'],'attention_mask':x_test['attention_mask']})\n",
        "predicted_raw[0]"
      ]
    },
    {
      "cell_type": "code",
      "execution_count": null,
      "metadata": {
        "id": "_eqqHC5ECJ6G",
        "colab": {
          "base_uri": "https://localhost:8080/"
        },
        "outputId": "c8e6bf8c-a5a4-41b8-ded5-c35e5f7829dc"
      },
      "outputs": [
        {
          "output_type": "stream",
          "name": "stdout",
          "text": [
            "              precision    recall  f1-score   support\n",
            "\n",
            "           0       0.95      0.88      0.91      2717\n",
            "           1       0.47      0.75      0.57       205\n",
            "           2       0.76      0.86      0.81       151\n",
            "           3       0.82      0.86      0.84       349\n",
            "           4       0.71      0.85      0.77       396\n",
            "           5       0.85      0.54      0.66       106\n",
            "           6       0.44      0.65      0.52       171\n",
            "           7       0.96      0.95      0.96       617\n",
            "           8       0.86      0.73      0.79       230\n",
            "           9       0.47      0.12      0.19        58\n",
            "\n",
            "    accuracy                           0.85      5000\n",
            "   macro avg       0.73      0.72      0.70      5000\n",
            "weighted avg       0.87      0.85      0.85      5000\n",
            "\n",
            "[[2391  128   14   13   77    2   78    5    9    0]\n",
            " [  39  153    0    0    5    0    3    0    5    0]\n",
            " [   8    3  130    2    0    0    7    1    0    0]\n",
            " [   6    0    3  301   19    3    7    4    3    3]\n",
            " [  31    3    0    7  337    0   10    0    6    2]\n",
            " [   3    3    7   15    3   57   11    5    2    0]\n",
            " [  14   18    8    2   13    1  111    1    1    2]\n",
            " [   4    2    0   14    6    3    0  587    0    1]\n",
            " [  13   19    5    5   17    0    2    1  168    0]\n",
            " [   7    0    3    8    1    1   25    5    1    7]]\n"
          ]
        }
      ],
      "source": [
        "y_predicted = np.argmax(predicted_raw, axis = 1)\n",
        "y_true = np.argmax(y_test, axis = 1)\n",
        "print(classification_report(y_true, y_predicted))\n",
        "print(confusion_matrix(y_true, y_predicted))"
      ]
    },
    {
      "cell_type": "markdown",
      "metadata": {
        "id": "ir3qsOW3NQIW"
      },
      "source": [
        "Done"
      ]
    },
    {
      "cell_type": "code",
      "execution_count": null,
      "metadata": {
        "id": "wGZVMIqHgKGj",
        "colab": {
          "base_uri": "https://localhost:8080/",
          "height": 269
        },
        "outputId": "9c4dfea5-3d99-4937-8db7-c4531675eb37"
      },
      "outputs": [
        {
          "output_type": "display_data",
          "data": {
            "text/plain": [
              "<Figure size 432x288 with 1 Axes>"
            ],
            "image/png": "[encoded data removed]"
          },
          "metadata": {
            "needs_background": "light"
          }
        }
      ],
      "source": [
        "#!/usr/bin/env python\n",
        "import matplotlib.pyplot as plt\n",
        "arr = [[2391,128,14,13,77,2,78,5,9,0],\n",
        "       [39,153,0,0,5,0,3,0,5,0],\n",
        "       [8,3,130,2,0,0,7,1,0,0],\n",
        "       [6,0,3,301,19,3,7,4,3,3],\n",
        "       [31,3,0,7,337,0,10,0,6,2],\n",
        "       [3,3,7,15,3,57,11,5,2,0],\n",
        "       [14,18,8,2,13,1,111,1,1,2],\n",
        "       [4,2,0,14,6,3,0,587,0,1],\n",
        "       [13,19,5,5,17,0,2,1,168,0],\n",
        "       [7,0,3,8,1,1,25,5,1,7]]\n",
        "\n",
        "n = 10\n",
        "x = ['bangladesh', 'sports', 'international', 'entertainment', 'technology', 'economy', 'opinion', 'education', 'life-style', 'we-are']\n",
        "y = []\n",
        "for i in range(n):\n",
        "    p = arr[i][i]\n",
        "    q = 0\n",
        "    for j in range(n):\n",
        "        q += arr[i][j]\n",
        "    y.append(p * 100 / q)\n",
        "        \n",
        "plt.bar(x, y)\n",
        "plt.ylim(0, 100)\n",
        "plt.grid(axis = 'y')\n",
        "plt.show()"
      ]
    }
  ],
  "metadata": {
    "accelerator": "GPU",
    "colab": {
      "collapsed_sections": [],
      "name": "Bangla_Newspaper_Classification_USING_BERT.ipynb",
      "provenance": [],
      "include_colab_link": true
    },
    "kernelspec": {
      "display_name": "Python 3",
      "name": "python3"
    },
    "language_info": {
      "name": "python"
    },
    "widgets": {
      "application/vnd.jupyter.widget-state+json": {
        "f293247baf4a4f899a545c3498ebcec5": {
          "model_module": "@jupyter-widgets/controls",
          "model_name": "HBoxModel",
          "model_module_version": "1.5.0",
          "state": {
            "_dom_classes": [],
            "_model_module": "@jupyter-widgets/controls",
            "_model_module_version": "1.5.0",
            "_model_name": "HBoxModel",
            "_view_count": null,
            "_view_module": "@jupyter-widgets/controls",
            "_view_module_version": "1.5.0",
            "_view_name": "HBoxView",
            "box_style": "",
            "children": [
              "IPY_MODEL_a17ff629616146058e908aba8cbb35af",
              "IPY_MODEL_194301b4d01d4a06ac657be104127cb1",
              "IPY_MODEL_62d55119620f41bea70b4c50d4eb7c83"
            ],
            "layout": "IPY_MODEL_2bf5878dc29d473ebd33a6159ad73b07"
          }
        },
        "a17ff629616146058e908aba8cbb35af": {
          "model_module": "@jupyter-widgets/controls",
          "model_name": "HTMLModel",
          "model_module_version": "1.5.0",
          "state": {
            "_dom_classes": [],
            "_model_module": "@jupyter-widgets/controls",
            "_model_module_version": "1.5.0",
            "_model_name": "HTMLModel",
            "_view_count": null,
            "_view_module": "@jupyter-widgets/controls",
            "_view_module_version": "1.5.0",
            "_view_name": "HTMLView",
            "description": "",
            "description_tooltip": null,
            "layout": "IPY_MODEL_eabfe3028d374943b14c1ab31034fd2f",
            "placeholder": "​",
            "style": "IPY_MODEL_3828ab61c94e4ef8899d20530d6ac41d",
            "value": "Downloading: 100%"
          }
        },
        "194301b4d01d4a06ac657be104127cb1": {
          "model_module": "@jupyter-widgets/controls",
          "model_name": "FloatProgressModel",
          "model_module_version": "1.5.0",
          "state": {
            "_dom_classes": [],
            "_model_module": "@jupyter-widgets/controls",
            "_model_module_version": "1.5.0",
            "_model_name": "FloatProgressModel",
            "_view_count": null,
            "_view_module": "@jupyter-widgets/controls",
            "_view_module_version": "1.5.0",
            "_view_name": "ProgressView",
            "bar_style": "success",
            "description": "",
            "description_tooltip": null,
            "layout": "IPY_MODEL_19c0e068e23d4cc0811fdc9e748578dd",
            "max": 512,
            "min": 0,
            "orientation": "horizontal",
            "style": "IPY_MODEL_56b4fc6983784fa0926b7227eb5c0aa9",
            "value": 512
          }
        },
        "62d55119620f41bea70b4c50d4eb7c83": {
          "model_module": "@jupyter-widgets/controls",
          "model_name": "HTMLModel",
          "model_module_version": "1.5.0",
          "state": {
            "_dom_classes": [],
            "_model_module": "@jupyter-widgets/controls",
            "_model_module_version": "1.5.0",
            "_model_name": "HTMLModel",
            "_view_count": null,
            "_view_module": "@jupyter-widgets/controls",
            "_view_module_version": "1.5.0",
            "_view_name": "HTMLView",
            "description": "",
            "description_tooltip": null,
            "layout": "IPY_MODEL_7df662ac3feb4c99beaa8bd36294d0cc",
            "placeholder": "​",
            "style": "IPY_MODEL_7ee85a730d6f4e85a64953de44d26c81",
            "value": " 512/512 [00:00&lt;00:00, 12.1kB/s]"
          }
        },
        "2bf5878dc29d473ebd33a6159ad73b07": {
          "model_module": "@jupyter-widgets/base",
          "model_name": "LayoutModel",
          "model_module_version": "1.2.0",
          "state": {
            "_model_module": "@jupyter-widgets/base",
            "_model_module_version": "1.2.0",
            "_model_name": "LayoutModel",
            "_view_count": null,
            "_view_module": "@jupyter-widgets/base",
            "_view_module_version": "1.2.0",
            "_view_name": "LayoutView",
            "align_content": null,
            "align_items": null,
            "align_self": null,
            "border": null,
            "bottom": null,
            "display": null,
            "flex": null,
            "flex_flow": null,
            "grid_area": null,
            "grid_auto_columns": null,
            "grid_auto_flow": null,
            "grid_auto_rows": null,
            "grid_column": null,
            "grid_gap": null,
            "grid_row": null,
            "grid_template_areas": null,
            "grid_template_columns": null,
            "grid_template_rows": null,
            "height": null,
            "justify_content": null,
            "justify_items": null,
            "left": null,
            "margin": null,
            "max_height": null,
            "max_width": null,
            "min_height": null,
            "min_width": null,
            "object_fit": null,
            "object_position": null,
            "order": null,
            "overflow": null,
            "overflow_x": null,
            "overflow_y": null,
            "padding": null,
            "right": null,
            "top": null,
            "visibility": null,
            "width": null
          }
        },
        "eabfe3028d374943b14c1ab31034fd2f": {
          "model_module": "@jupyter-widgets/base",
          "model_name": "LayoutModel",
          "model_module_version": "1.2.0",
          "state": {
            "_model_module": "@jupyter-widgets/base",
            "_model_module_version": "1.2.0",
            "_model_name": "LayoutModel",
            "_view_count": null,
            "_view_module": "@jupyter-widgets/base",
            "_view_module_version": "1.2.0",
            "_view_name": "LayoutView",
            "align_content": null,
            "align_items": null,
            "align_self": null,
            "border": null,
            "bottom": null,
            "display": null,
            "flex": null,
            "flex_flow": null,
            "grid_area": null,
            "grid_auto_columns": null,
            "grid_auto_flow": null,
            "grid_auto_rows": null,
            "grid_column": null,
            "grid_gap": null,
            "grid_row": null,
            "grid_template_areas": null,
            "grid_template_columns": null,
            "grid_template_rows": null,
            "height": null,
            "justify_content": null,
            "justify_items": null,
            "left": null,
            "margin": null,
            "max_height": null,
            "max_width": null,
            "min_height": null,
            "min_width": null,
            "object_fit": null,
            "object_position": null,
            "order": null,
            "overflow": null,
            "overflow_x": null,
            "overflow_y": null,
            "padding": null,
            "right": null,
            "top": null,
            "visibility": null,
            "width": null
          }
        },
        "3828ab61c94e4ef8899d20530d6ac41d": {
          "model_module": "@jupyter-widgets/controls",
          "model_name": "DescriptionStyleModel",
          "model_module_version": "1.5.0",
          "state": {
            "_model_module": "@jupyter-widgets/controls",
            "_model_module_version": "1.5.0",
            "_model_name": "DescriptionStyleModel",
            "_view_count": null,
            "_view_module": "@jupyter-widgets/base",
            "_view_module_version": "1.2.0",
            "_view_name": "StyleView",
            "description_width": ""
          }
        },
        "19c0e068e23d4cc0811fdc9e748578dd": {
          "model_module": "@jupyter-widgets/base",
          "model_name": "LayoutModel",
          "model_module_version": "1.2.0",
          "state": {
            "_model_module": "@jupyter-widgets/base",
            "_model_module_version": "1.2.0",
            "_model_name": "LayoutModel",
            "_view_count": null,
            "_view_module": "@jupyter-widgets/base",
            "_view_module_version": "1.2.0",
            "_view_name": "LayoutView",
            "align_content": null,
            "align_items": null,
            "align_self": null,
            "border": null,
            "bottom": null,
            "display": null,
            "flex": null,
            "flex_flow": null,
            "grid_area": null,
            "grid_auto_columns": null,
            "grid_auto_flow": null,
            "grid_auto_rows": null,
            "grid_column": null,
            "grid_gap": null,
            "grid_row": null,
            "grid_template_areas": null,
            "grid_template_columns": null,
            "grid_template_rows": null,
            "height": null,
            "justify_content": null,
            "justify_items": null,
            "left": null,
            "margin": null,
            "max_height": null,
            "max_width": null,
            "min_height": null,
            "min_width": null,
            "object_fit": null,
            "object_position": null,
            "order": null,
            "overflow": null,
            "overflow_x": null,
            "overflow_y": null,
            "padding": null,
            "right": null,
            "top": null,
            "visibility": null,
            "width": null
          }
        },
        "56b4fc6983784fa0926b7227eb5c0aa9": {
          "model_module": "@jupyter-widgets/controls",
          "model_name": "ProgressStyleModel",
          "model_module_version": "1.5.0",
          "state": {
            "_model_module": "@jupyter-widgets/controls",
            "_model_module_version": "1.5.0",
            "_model_name": "ProgressStyleModel",
            "_view_count": null,
            "_view_module": "@jupyter-widgets/base",
            "_view_module_version": "1.2.0",
            "_view_name": "StyleView",
            "bar_color": null,
            "description_width": ""
          }
        },
        "7df662ac3feb4c99beaa8bd36294d0cc": {
          "model_module": "@jupyter-widgets/base",
          "model_name": "LayoutModel",
          "model_module_version": "1.2.0",
          "state": {
            "_model_module": "@jupyter-widgets/base",
            "_model_module_version": "1.2.0",
            "_model_name": "LayoutModel",
            "_view_count": null,
            "_view_module": "@jupyter-widgets/base",
            "_view_module_version": "1.2.0",
            "_view_name": "LayoutView",
            "align_content": null,
            "align_items": null,
            "align_self": null,
            "border": null,
            "bottom": null,
            "display": null,
            "flex": null,
            "flex_flow": null,
            "grid_area": null,
            "grid_auto_columns": null,
            "grid_auto_flow": null,
            "grid_auto_rows": null,
            "grid_column": null,
            "grid_gap": null,
            "grid_row": null,
            "grid_template_areas": null,
            "grid_template_columns": null,
            "grid_template_rows": null,
            "height": null,
            "justify_content": null,
            "justify_items": null,
            "left": null,
            "margin": null,
            "max_height": null,
            "max_width": null,
            "min_height": null,
            "min_width": null,
            "object_fit": null,
            "object_position": null,
            "order": null,
            "overflow": null,
            "overflow_x": null,
            "overflow_y": null,
            "padding": null,
            "right": null,
            "top": null,
            "visibility": null,
            "width": null
          }
        },
        "7ee85a730d6f4e85a64953de44d26c81": {
          "model_module": "@jupyter-widgets/controls",
          "model_name": "DescriptionStyleModel",
          "model_module_version": "1.5.0",
          "state": {
            "_model_module": "@jupyter-widgets/controls",
            "_model_module_version": "1.5.0",
            "_model_name": "DescriptionStyleModel",
            "_view_count": null,
            "_view_module": "@jupyter-widgets/base",
            "_view_module_version": "1.2.0",
            "_view_name": "StyleView",
            "description_width": ""
          }
        },
        "a9dd3b2a7f3d41da9555a5cd9541660d": {
          "model_module": "@jupyter-widgets/controls",
          "model_name": "HBoxModel",
          "model_module_version": "1.5.0",
          "state": {
            "_dom_classes": [],
            "_model_module": "@jupyter-widgets/controls",
            "_model_module_version": "1.5.0",
            "_model_name": "HBoxModel",
            "_view_count": null,
            "_view_module": "@jupyter-widgets/controls",
            "_view_module_version": "1.5.0",
            "_view_name": "HBoxView",
            "box_style": "",
            "children": [
              "IPY_MODEL_70b3e4df941e472eb7ffb2566a1e3729",
              "IPY_MODEL_4f2dffb1dc14471e9819e8c4ed6f72a4",
              "IPY_MODEL_d0c94afe8d1740b7a8cd42b84f321886"
            ],
            "layout": "IPY_MODEL_e7b1dd99bed948669a9eee6c3fda2287"
          }
        },
        "70b3e4df941e472eb7ffb2566a1e3729": {
          "model_module": "@jupyter-widgets/controls",
          "model_name": "HTMLModel",
          "model_module_version": "1.5.0",
          "state": {
            "_dom_classes": [],
            "_model_module": "@jupyter-widgets/controls",
            "_model_module_version": "1.5.0",
            "_model_name": "HTMLModel",
            "_view_count": null,
            "_view_module": "@jupyter-widgets/controls",
            "_view_module_version": "1.5.0",
            "_view_name": "HTMLView",
            "description": "",
            "description_tooltip": null,
            "layout": "IPY_MODEL_0ba0101e32804c14886a412a86aca5c6",
            "placeholder": "​",
            "style": "IPY_MODEL_373959fd7d3d48e3831121b1462f2d4e",
            "value": "Downloading: 100%"
          }
        },
        "4f2dffb1dc14471e9819e8c4ed6f72a4": {
          "model_module": "@jupyter-widgets/controls",
          "model_name": "FloatProgressModel",
          "model_module_version": "1.5.0",
          "state": {
            "_dom_classes": [],
            "_model_module": "@jupyter-widgets/controls",
            "_model_module_version": "1.5.0",
            "_model_name": "FloatProgressModel",
            "_view_count": null,
            "_view_module": "@jupyter-widgets/controls",
            "_view_module_version": "1.5.0",
            "_view_name": "ProgressView",
            "bar_style": "success",
            "description": "",
            "description_tooltip": null,
            "layout": "IPY_MODEL_58469d3c6d644f8c8480b2aa27db5664",
            "max": 5069051,
            "min": 0,
            "orientation": "horizontal",
            "style": "IPY_MODEL_a4b11bc3c3824a44a8545f3ff454dc58",
            "value": 5069051
          }
        },
        "d0c94afe8d1740b7a8cd42b84f321886": {
          "model_module": "@jupyter-widgets/controls",
          "model_name": "HTMLModel",
          "model_module_version": "1.5.0",
          "state": {
            "_dom_classes": [],
            "_model_module": "@jupyter-widgets/controls",
            "_model_module_version": "1.5.0",
            "_model_name": "HTMLModel",
            "_view_count": null,
            "_view_module": "@jupyter-widgets/controls",
            "_view_module_version": "1.5.0",
            "_view_name": "HTMLView",
            "description": "",
            "description_tooltip": null,
            "layout": "IPY_MODEL_32d18c8581934df496c5c4b05f0f80ff",
            "placeholder": "​",
            "style": "IPY_MODEL_1d7e9126972146b7a9bea2c146b350f5",
            "value": " 4.83M/4.83M [00:00&lt;00:00, 6.54MB/s]"
          }
        },
        "e7b1dd99bed948669a9eee6c3fda2287": {
          "model_module": "@jupyter-widgets/base",
          "model_name": "LayoutModel",
          "model_module_version": "1.2.0",
          "state": {
            "_model_module": "@jupyter-widgets/base",
            "_model_module_version": "1.2.0",
            "_model_name": "LayoutModel",
            "_view_count": null,
            "_view_module": "@jupyter-widgets/base",
            "_view_module_version": "1.2.0",
            "_view_name": "LayoutView",
            "align_content": null,
            "align_items": null,
            "align_self": null,
            "border": null,
            "bottom": null,
            "display": null,
            "flex": null,
            "flex_flow": null,
            "grid_area": null,
            "grid_auto_columns": null,
            "grid_auto_flow": null,
            "grid_auto_rows": null,
            "grid_column": null,
            "grid_gap": null,
            "grid_row": null,
            "grid_template_areas": null,
            "grid_template_columns": null,
            "grid_template_rows": null,
            "height": null,
            "justify_content": null,
            "justify_items": null,
            "left": null,
            "margin": null,
            "max_height": null,
            "max_width": null,
            "min_height": null,
            "min_width": null,
            "object_fit": null,
            "object_position": null,
            "order": null,
            "overflow": null,
            "overflow_x": null,
            "overflow_y": null,
            "padding": null,
            "right": null,
            "top": null,
            "visibility": null,
            "width": null
          }
        },
        "0ba0101e32804c14886a412a86aca5c6": {
          "model_module": "@jupyter-widgets/base",
          "model_name": "LayoutModel",
          "model_module_version": "1.2.0",
          "state": {
            "_model_module": "@jupyter-widgets/base",
            "_model_module_version": "1.2.0",
            "_model_name": "LayoutModel",
            "_view_count": null,
            "_view_module": "@jupyter-widgets/base",
            "_view_module_version": "1.2.0",
            "_view_name": "LayoutView",
            "align_content": null,
            "align_items": null,
            "align_self": null,
            "border": null,
            "bottom": null,
            "display": null,
            "flex": null,
            "flex_flow": null,
            "grid_area": null,
            "grid_auto_columns": null,
            "grid_auto_flow": null,
            "grid_auto_rows": null,
            "grid_column": null,
            "grid_gap": null,
            "grid_row": null,
            "grid_template_areas": null,
            "grid_template_columns": null,
            "grid_template_rows": null,
            "height": null,
            "justify_content": null,
            "justify_items": null,
            "left": null,
            "margin": null,
            "max_height": null,
            "max_width": null,
            "min_height": null,
            "min_width": null,
            "object_fit": null,
            "object_position": null,
            "order": null,
            "overflow": null,
            "overflow_x": null,
            "overflow_y": null,
            "padding": null,
            "right": null,
            "top": null,
            "visibility": null,
            "width": null
          }
        },
        "373959fd7d3d48e3831121b1462f2d4e": {
          "model_module": "@jupyter-widgets/controls",
          "model_name": "DescriptionStyleModel",
          "model_module_version": "1.5.0",
          "state": {
            "_model_module": "@jupyter-widgets/controls",
            "_model_module_version": "1.5.0",
            "_model_name": "DescriptionStyleModel",
            "_view_count": null,
            "_view_module": "@jupyter-widgets/base",
            "_view_module_version": "1.2.0",
            "_view_name": "StyleView",
            "description_width": ""
          }
        },
        "58469d3c6d644f8c8480b2aa27db5664": {
          "model_module": "@jupyter-widgets/base",
          "model_name": "LayoutModel",
          "model_module_version": "1.2.0",
          "state": {
            "_model_module": "@jupyter-widgets/base",
            "_model_module_version": "1.2.0",
            "_model_name": "LayoutModel",
            "_view_count": null,
            "_view_module": "@jupyter-widgets/base",
            "_view_module_version": "1.2.0",
            "_view_name": "LayoutView",
            "align_content": null,
            "align_items": null,
            "align_self": null,
            "border": null,
            "bottom": null,
            "display": null,
            "flex": null,
            "flex_flow": null,
            "grid_area": null,
            "grid_auto_columns": null,
            "grid_auto_flow": null,
            "grid_auto_rows": null,
            "grid_column": null,
            "grid_gap": null,
            "grid_row": null,
            "grid_template_areas": null,
            "grid_template_columns": null,
            "grid_template_rows": null,
            "height": null,
            "justify_content": null,
            "justify_items": null,
            "left": null,
            "margin": null,
            "max_height": null,
            "max_width": null,
            "min_height": null,
            "min_width": null,
            "object_fit": null,
            "object_position": null,
            "order": null,
            "overflow": null,
            "overflow_x": null,
            "overflow_y": null,
            "padding": null,
            "right": null,
            "top": null,
            "visibility": null,
            "width": null
          }
        },
        "a4b11bc3c3824a44a8545f3ff454dc58": {
          "model_module": "@jupyter-widgets/controls",
          "model_name": "ProgressStyleModel",
          "model_module_version": "1.5.0",
          "state": {
            "_model_module": "@jupyter-widgets/controls",
            "_model_module_version": "1.5.0",
            "_model_name": "ProgressStyleModel",
            "_view_count": null,
            "_view_module": "@jupyter-widgets/base",
            "_view_module_version": "1.2.0",
            "_view_name": "StyleView",
            "bar_color": null,
            "description_width": ""
          }
        },
        "32d18c8581934df496c5c4b05f0f80ff": {
          "model_module": "@jupyter-widgets/base",
          "model_name": "LayoutModel",
          "model_module_version": "1.2.0",
          "state": {
            "_model_module": "@jupyter-widgets/base",
            "_model_module_version": "1.2.0",
            "_model_name": "LayoutModel",
            "_view_count": null,
            "_view_module": "@jupyter-widgets/base",
            "_view_module_version": "1.2.0",
            "_view_name": "LayoutView",
            "align_content": null,
            "align_items": null,
            "align_self": null,
            "border": null,
            "bottom": null,
            "display": null,
            "flex": null,
            "flex_flow": null,
            "grid_area": null,
            "grid_auto_columns": null,
            "grid_auto_flow": null,
            "grid_auto_rows": null,
            "grid_column": null,
            "grid_gap": null,
            "grid_row": null,
            "grid_template_areas": null,
            "grid_template_columns": null,
            "grid_template_rows": null,
            "height": null,
            "justify_content": null,
            "justify_items": null,
            "left": null,
            "margin": null,
            "max_height": null,
            "max_width": null,
            "min_height": null,
            "min_width": null,
            "object_fit": null,
            "object_position": null,
            "order": null,
            "overflow": null,
            "overflow_x": null,
            "overflow_y": null,
            "padding": null,
            "right": null,
            "top": null,
            "visibility": null,
            "width": null
          }
        },
        "1d7e9126972146b7a9bea2c146b350f5": {
          "model_module": "@jupyter-widgets/controls",
          "model_name": "DescriptionStyleModel",
          "model_module_version": "1.5.0",
          "state": {
            "_model_module": "@jupyter-widgets/controls",
            "_model_module_version": "1.5.0",
            "_model_name": "DescriptionStyleModel",
            "_view_count": null,
            "_view_module": "@jupyter-widgets/base",
            "_view_module_version": "1.2.0",
            "_view_name": "StyleView",
            "description_width": ""
          }
        },
        "d8c17ca6840b4d87b92965aa5c4bc6ed": {
          "model_module": "@jupyter-widgets/controls",
          "model_name": "HBoxModel",
          "model_module_version": "1.5.0",
          "state": {
            "_dom_classes": [],
            "_model_module": "@jupyter-widgets/controls",
            "_model_module_version": "1.5.0",
            "_model_name": "HBoxModel",
            "_view_count": null,
            "_view_module": "@jupyter-widgets/controls",
            "_view_module_version": "1.5.0",
            "_view_name": "HBoxView",
            "box_style": "",
            "children": [
              "IPY_MODEL_32321364a315493f894c443e59687c41",
              "IPY_MODEL_1f2a05c9b4e14dcea5960cb269093b82",
              "IPY_MODEL_70ee16803b2a4a94a25638dbade8e623"
            ],
            "layout": "IPY_MODEL_aa1c15793f0d4c1682875db425830e8d"
          }
        },
        "32321364a315493f894c443e59687c41": {
          "model_module": "@jupyter-widgets/controls",
          "model_name": "HTMLModel",
          "model_module_version": "1.5.0",
          "state": {
            "_dom_classes": [],
            "_model_module": "@jupyter-widgets/controls",
            "_model_module_version": "1.5.0",
            "_model_name": "HTMLModel",
            "_view_count": null,
            "_view_module": "@jupyter-widgets/controls",
            "_view_module_version": "1.5.0",
            "_view_name": "HTMLView",
            "description": "",
            "description_tooltip": null,
            "layout": "IPY_MODEL_c55503a5b71b4aeeaec4deab1ca95769",
            "placeholder": "​",
            "style": "IPY_MODEL_3d0a25e97f314f50a91b9a92b1101816",
            "value": "Downloading: 100%"
          }
        },
        "1f2a05c9b4e14dcea5960cb269093b82": {
          "model_module": "@jupyter-widgets/controls",
          "model_name": "FloatProgressModel",
          "model_module_version": "1.5.0",
          "state": {
            "_dom_classes": [],
            "_model_module": "@jupyter-widgets/controls",
            "_model_module_version": "1.5.0",
            "_model_name": "FloatProgressModel",
            "_view_count": null,
            "_view_module": "@jupyter-widgets/controls",
            "_view_module_version": "1.5.0",
            "_view_name": "ProgressView",
            "bar_style": "success",
            "description": "",
            "description_tooltip": null,
            "layout": "IPY_MODEL_cb8d0fcd2d8e4b46b2e4424d3e4df2c3",
            "max": 1885418496,
            "min": 0,
            "orientation": "horizontal",
            "style": "IPY_MODEL_40019e834f214809865a8d276beffac6",
            "value": 1885418496
          }
        },
        "70ee16803b2a4a94a25638dbade8e623": {
          "model_module": "@jupyter-widgets/controls",
          "model_name": "HTMLModel",
          "model_module_version": "1.5.0",
          "state": {
            "_dom_classes": [],
            "_model_module": "@jupyter-widgets/controls",
            "_model_module_version": "1.5.0",
            "_model_name": "HTMLModel",
            "_view_count": null,
            "_view_module": "@jupyter-widgets/controls",
            "_view_module_version": "1.5.0",
            "_view_name": "HTMLView",
            "description": "",
            "description_tooltip": null,
            "layout": "IPY_MODEL_197ea31590d14b11a4177dd87441a1bb",
            "placeholder": "​",
            "style": "IPY_MODEL_d1a5a375bf764238a70ad5cd291ea5b5",
            "value": " 1.76G/1.76G [01:10&lt;00:00, 33.4MB/s]"
          }
        },
        "aa1c15793f0d4c1682875db425830e8d": {
          "model_module": "@jupyter-widgets/base",
          "model_name": "LayoutModel",
          "model_module_version": "1.2.0",
          "state": {
            "_model_module": "@jupyter-widgets/base",
            "_model_module_version": "1.2.0",
            "_model_name": "LayoutModel",
            "_view_count": null,
            "_view_module": "@jupyter-widgets/base",
            "_view_module_version": "1.2.0",
            "_view_name": "LayoutView",
            "align_content": null,
            "align_items": null,
            "align_self": null,
            "border": null,
            "bottom": null,
            "display": null,
            "flex": null,
            "flex_flow": null,
            "grid_area": null,
            "grid_auto_columns": null,
            "grid_auto_flow": null,
            "grid_auto_rows": null,
            "grid_column": null,
            "grid_gap": null,
            "grid_row": null,
            "grid_template_areas": null,
            "grid_template_columns": null,
            "grid_template_rows": null,
            "height": null,
            "justify_content": null,
            "justify_items": null,
            "left": null,
            "margin": null,
            "max_height": null,
            "max_width": null,
            "min_height": null,
            "min_width": null,
            "object_fit": null,
            "object_position": null,
            "order": null,
            "overflow": null,
            "overflow_x": null,
            "overflow_y": null,
            "padding": null,
            "right": null,
            "top": null,
            "visibility": null,
            "width": null
          }
        },
        "c55503a5b71b4aeeaec4deab1ca95769": {
          "model_module": "@jupyter-widgets/base",
          "model_name": "LayoutModel",
          "model_module_version": "1.2.0",
          "state": {
            "_model_module": "@jupyter-widgets/base",
            "_model_module_version": "1.2.0",
            "_model_name": "LayoutModel",
            "_view_count": null,
            "_view_module": "@jupyter-widgets/base",
            "_view_module_version": "1.2.0",
            "_view_name": "LayoutView",
            "align_content": null,
            "align_items": null,
            "align_self": null,
            "border": null,
            "bottom": null,
            "display": null,
            "flex": null,
            "flex_flow": null,
            "grid_area": null,
            "grid_auto_columns": null,
            "grid_auto_flow": null,
            "grid_auto_rows": null,
            "grid_column": null,
            "grid_gap": null,
            "grid_row": null,
            "grid_template_areas": null,
            "grid_template_columns": null,
            "grid_template_rows": null,
            "height": null,
            "justify_content": null,
            "justify_items": null,
            "left": null,
            "margin": null,
            "max_height": null,
            "max_width": null,
            "min_height": null,
            "min_width": null,
            "object_fit": null,
            "object_position": null,
            "order": null,
            "overflow": null,
            "overflow_x": null,
            "overflow_y": null,
            "padding": null,
            "right": null,
            "top": null,
            "visibility": null,
            "width": null
          }
        },
        "3d0a25e97f314f50a91b9a92b1101816": {
          "model_module": "@jupyter-widgets/controls",
          "model_name": "DescriptionStyleModel",
          "model_module_version": "1.5.0",
          "state": {
            "_model_module": "@jupyter-widgets/controls",
            "_model_module_version": "1.5.0",
            "_model_name": "DescriptionStyleModel",
            "_view_count": null,
            "_view_module": "@jupyter-widgets/base",
            "_view_module_version": "1.2.0",
            "_view_name": "StyleView",
            "description_width": ""
          }
        },
        "cb8d0fcd2d8e4b46b2e4424d3e4df2c3": {
          "model_module": "@jupyter-widgets/base",
          "model_name": "LayoutModel",
          "model_module_version": "1.2.0",
          "state": {
            "_model_module": "@jupyter-widgets/base",
            "_model_module_version": "1.2.0",
            "_model_name": "LayoutModel",
            "_view_count": null,
            "_view_module": "@jupyter-widgets/base",
            "_view_module_version": "1.2.0",
            "_view_name": "LayoutView",
            "align_content": null,
            "align_items": null,
            "align_self": null,
            "border": null,
            "bottom": null,
            "display": null,
            "flex": null,
            "flex_flow": null,
            "grid_area": null,
            "grid_auto_columns": null,
            "grid_auto_flow": null,
            "grid_auto_rows": null,
            "grid_column": null,
            "grid_gap": null,
            "grid_row": null,
            "grid_template_areas": null,
            "grid_template_columns": null,
            "grid_template_rows": null,
            "height": null,
            "justify_content": null,
            "justify_items": null,
            "left": null,
            "margin": null,
            "max_height": null,
            "max_width": null,
            "min_height": null,
            "min_width": null,
            "object_fit": null,
            "object_position": null,
            "order": null,
            "overflow": null,
            "overflow_x": null,
            "overflow_y": null,
            "padding": null,
            "right": null,
            "top": null,
            "visibility": null,
            "width": null
          }
        },
        "40019e834f214809865a8d276beffac6": {
          "model_module": "@jupyter-widgets/controls",
          "model_name": "ProgressStyleModel",
          "model_module_version": "1.5.0",
          "state": {
            "_model_module": "@jupyter-widgets/controls",
            "_model_module_version": "1.5.0",
            "_model_name": "ProgressStyleModel",
            "_view_count": null,
            "_view_module": "@jupyter-widgets/base",
            "_view_module_version": "1.2.0",
            "_view_name": "StyleView",
            "bar_color": null,
            "description_width": ""
          }
        },
        "197ea31590d14b11a4177dd87441a1bb": {
          "model_module": "@jupyter-widgets/base",
          "model_name": "LayoutModel",
          "model_module_version": "1.2.0",
          "state": {
            "_model_module": "@jupyter-widgets/base",
            "_model_module_version": "1.2.0",
            "_model_name": "LayoutModel",
            "_view_count": null,
            "_view_module": "@jupyter-widgets/base",
            "_view_module_version": "1.2.0",
            "_view_name": "LayoutView",
            "align_content": null,
            "align_items": null,
            "align_self": null,
            "border": null,
            "bottom": null,
            "display": null,
            "flex": null,
            "flex_flow": null,
            "grid_area": null,
            "grid_auto_columns": null,
            "grid_auto_flow": null,
            "grid_auto_rows": null,
            "grid_column": null,
            "grid_gap": null,
            "grid_row": null,
            "grid_template_areas": null,
            "grid_template_columns": null,
            "grid_template_rows": null,
            "height": null,
            "justify_content": null,
            "justify_items": null,
            "left": null,
            "margin": null,
            "max_height": null,
            "max_width": null,
            "min_height": null,
            "min_width": null,
            "object_fit": null,
            "object_position": null,
            "order": null,
            "overflow": null,
            "overflow_x": null,
            "overflow_y": null,
            "padding": null,
            "right": null,
            "top": null,
            "visibility": null,
            "width": null
          }
        },
        "d1a5a375bf764238a70ad5cd291ea5b5": {
          "model_module": "@jupyter-widgets/controls",
          "model_name": "DescriptionStyleModel",
          "model_module_version": "1.5.0",
          "state": {
            "_model_module": "@jupyter-widgets/controls",
            "_model_module_version": "1.5.0",
            "_model_name": "DescriptionStyleModel",
            "_view_count": null,
            "_view_module": "@jupyter-widgets/base",
            "_view_module_version": "1.2.0",
            "_view_name": "StyleView",
            "description_width": ""
          }
        }
      }
    }
  },
  "nbformat": 4,
  "nbformat_minor": 0
}